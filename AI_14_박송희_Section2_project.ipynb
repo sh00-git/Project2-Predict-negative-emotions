{
  "nbformat": 4,
  "nbformat_minor": 0,
  "metadata": {
    "colab": {
      "name": "AI_14_박송희_Section2.ipynb",
      "private_outputs": true,
      "provenance": [],
      "collapsed_sections": []
    },
    "kernelspec": {
      "name": "python3",
      "display_name": "Python 3"
    },
    "language_info": {
      "name": "python"
    }
  },
  "cells": [
    {
      "cell_type": "markdown",
      "source": [
        "# Section2 Project\n",
        "## - 우울증 예측\n",
        "Data 출처 : Open sourced raw data from Openpsychometrics.org\n"
      ],
      "metadata": {
        "id": "8Zf0AXVGkn1-"
      }
    },
    {
      "cell_type": "markdown",
      "source": [
        "## Data Description\n",
        "- Q1A : 설문 질문\n",
        "    - 1 = Did not apply to me at all \n",
        "    - 2 = Applied to me to some degree, or some of the time\n",
        "    - 3 = Applied to me to a considerable degree, or a good part of the time\n",
        "    - 4 = Applied to me very much, or most of the time\n",
        "- Q1E : 질문에 답하기까지 걸린 시간(milliseconds)\n",
        "- Q1I : 설문에서의 질문 위치\n",
        "    - Q1~Q42 반복\n",
        "- country : 사용자가 연결한 곳의 ISO 국가 코드\n",
        "- source : 사용자가 테스트를 찾은 방법\n",
        "    - 1 = 설문조사를 호스팅하는 사이트\n",
        "    - 2 = 구글\n",
        "    - 3 = 기타 또는 알 수 없음.\n",
        "- introelapse : 소개/방문 페이지에서 보낸 시간(seconds)\n",
        "- testelapse : 모든 DASS 질문에 소요된 시간\n",
        "    - 모든 DASS 질문들에 답한 시간과 동일해야 함.\n",
        "- surveyelapse : 나머지 인구통계 및 설문조사 질문에 답하는데 소요된 시간\n",
        "\n",
        "### 10개 항목 성격 목록\n",
        "- TIPI1 : Extraverted, enthusiastic.(외향적, 열정적)\n",
        "- TIPI2 : Critical, quarrelsome.(치명적, 다투기)\n",
        "- TIPI3 : Dependable, self-disciplined.(신뢰할 수 있고 자제력)\n",
        "- TIPI4 : Anxious, easily upset.(불안하고 쉽게 화를 냄)\n",
        "- TIPI5 : Open to new experiences, complex.(새로운 경험에 개방적, 복잡함)\n",
        "- TIPI6 : Reserved, quiet.(예약됨, 조용함)\n",
        "- TIPI7 : Sympathetic, warm.(동정심, 따뜻함)\n",
        "- TIPI8 : Disorganized, careless.(무질서, 부주의)\n",
        "- TIPI9 : Calm, emotionally stable.(차분, 정서적으로 안정됨)\n",
        "- TIPI10 : Conventional, uncreative.(전통적이며 창의적이지 않음)\n",
        "    - 1 = Disagree strongly\n",
        "    - 2 = Disagree moderately\n",
        "    - 3 = Disagree a little\n",
        "    - 4 = Neither agree nor disagree\n",
        "    - 5 = Agree a little\n",
        "    - 6 = Agree moderately\n",
        "    - 7 = Agree strongly\n",
        "\n",
        "### 정의를 알고 있다고 확신하는 단어 선택(1:선택/0:선택안함)\n",
        "- VCL1 : boat\n",
        "- VCL2 : incoherent\n",
        "- VCL3 : pallid\n",
        "- VCL4 : robot\n",
        "- VCL5 : audible\n",
        "- VCL6 : cuivocal\n",
        "- VCL7 : paucity\n",
        "- VCL8 : epistemology\n",
        "- VCL9 : florted\n",
        "- VCL10 : decide\n",
        "- VCL11 : pastiche\n",
        "- VCL12 : verdid\n",
        "- VCL13 : abysmal\n",
        "- VCL14 : lucid\n",
        "- VCL15\t: betray\n",
        "- VCL16\t: funny\n",
        "\n",
        "\n",
        "- education : 교육 수료 정도\n",
        "    - 1 = 고등학교 이하\n",
        "    - 2 = 고등학교\n",
        "    - 3 = 대학 학위\n",
        "    - 4 = 대학원 학위\n",
        "- urban : 지역\n",
        "    - 1 = 시골\n",
        "    - 2 = 교외\n",
        "    - 3 = 도시\n",
        "- gender : 성별\n",
        "    - 1 = 남성\n",
        "    - 2 = 여성\n",
        "    - 3 = 기타\n",
        "- engnat : 영어가 모국어인지\n",
        "    - 1 = 맞음\n",
        "    - 2 = 아님\n",
        "- age : 나이\n",
        "- screensize : 화면 크기\n",
        "    - 1 = 화면이 작은 기기(휴대폰 등)\n",
        "    - 2 = 화면이 큰 기기(노트북, 데스크탑 등)\n",
        "- uniquenetworklocation : 고유한 네트워크 위치\n",
        "- hand : 무슨 손 사용하는지\n",
        "    - 1 = 오른쪽\n",
        "    - 2 = 왼쪽\n",
        "    - 3 = 둘다\n",
        "- religion : 종교\n",
        "    - 1=Agnostic\n",
        "    - 2=Atheist\n",
        "    - 3=Buddhist\n",
        "    - 4=Christian (Catholic)\n",
        "    - 5=Christian (Mormon)\n",
        "    - 6=Christian (Protestant)\n",
        "    - 7=Christian (Other)\n",
        "    - 8=Hindu\n",
        "    - 9=Jewish\n",
        "    - 10=Muslim\n",
        "    - 11=Sikh\n",
        "    - 12=Other\n",
        "- orientation : 성적취향\n",
        "    - 1 = 이성애자\n",
        "    - 2 = 양성애자\n",
        "    - 3 = 동성애자\n",
        "    - 4 = 무성애자\n",
        "    - 5 = 기타\n",
        "- race : 인종\n",
        "    - 10=Asian\n",
        "    - 20=Arab\n",
        "    - 30=Black\n",
        "    - 40=Indigenous Australian\n",
        "    - 50=Native American\n",
        "    - 60=White\n",
        "    - 70=Other\n",
        "- voted : 지난 1년 동안 총선에 투표한 적 있는지\n",
        "    - 1 = yes\n",
        "    - 2 = no\n",
        "- married : 결혼 여부\n",
        "    - 1=Never married (미혼)\n",
        "    - 2=Currently married (기혼)\n",
        "    - 3=Previously married (이전 기혼)\n",
        "- familysize : 본인 포함 자녀 수\n",
        "- major : 전공"
      ],
      "metadata": {
        "id": "8Lz7k78_72ah"
      }
    },
    {
      "cell_type": "code",
      "execution_count": null,
      "metadata": {
        "id": "4parRRoRkmwu"
      },
      "outputs": [],
      "source": [
        "import pandas as pd"
      ]
    },
    {
      "cell_type": "code",
      "source": [
        "from google.colab import drive\n",
        "drive.mount('/content/drive')"
      ],
      "metadata": {
        "id": "d5idQA0V3ECk"
      },
      "execution_count": null,
      "outputs": []
    },
    {
      "cell_type": "code",
      "source": [
        "filename = '/content/drive/MyDrive/Colab Notebooks/data.csv'\n",
        "\n",
        "df = pd.read_csv(filename, encoding='cp949')\n",
        "df.head()"
      ],
      "metadata": {
        "id": "SgncYTwg1hXM"
      },
      "execution_count": null,
      "outputs": []
    },
    {
      "cell_type": "code",
      "source": [
        "df.columns"
      ],
      "metadata": {
        "id": "NtQukMku4akk"
      },
      "execution_count": null,
      "outputs": []
    },
    {
      "cell_type": "code",
      "source": [
        "df = df.drop(['Unnamed: 172', 'Unnamed: 173', 'Unnamed: 174', 'Unnamed: 175'], axis=1)\n",
        "df.head()"
      ],
      "metadata": {
        "id": "xkgmRkWB4daq"
      },
      "execution_count": null,
      "outputs": []
    },
    {
      "cell_type": "code",
      "source": [
        "df.shape"
      ],
      "metadata": {
        "id": "nyJS06cDE9Wq"
      },
      "execution_count": null,
      "outputs": []
    },
    {
      "cell_type": "markdown",
      "source": [
        "# 1. 데이터 전처리, EDA, 시각화"
      ],
      "metadata": {
        "id": "p_gYXPDxEmTv"
      }
    },
    {
      "cell_type": "markdown",
      "source": [
        "필요없다고 판단되는 Column.\n",
        "- QxE\n",
        "- QxI\n",
        "- country\n",
        "- source\n",
        "- introelapse\n",
        "- testelapse\n",
        "- surveyelapse\n",
        "- VCLx\n",
        "- engnat\n",
        "- screensize\n",
        "- uniquenetworklocation\n",
        "- hand\n",
        "- voted\n",
        "- major"
      ],
      "metadata": {
        "id": "IjgjUbEJGM-7"
      }
    },
    {
      "cell_type": "code",
      "source": [
        "# 필요없는 컬럼 제거\n",
        "remove_column_list = [f'Q{i}E' for i in range(1,43)]\n",
        "remove_column_list.extend([f'Q{i}I' for i in range(1,43)])\n",
        "remove_column_list.extend([f'VCL{i}' for i in range(1,17)])\n",
        "remove_column_list.extend(['country','source','introelapse','testelapse','surveyelapse',\n",
        "                           'engnat','screensize','uniquenetworklocation','hand','voted','major'])\n",
        "\n",
        "data_df = df.drop(remove_column_list, axis=1)\n",
        "data_df.head()"
      ],
      "metadata": {
        "id": "NgyDhjwl5nUL"
      },
      "execution_count": null,
      "outputs": []
    },
    {
      "cell_type": "code",
      "source": [
        "# 모든 Columns는 int형이며 결측값이 없다.\n",
        "data_df.info()"
      ],
      "metadata": {
        "id": "LF_v-rSMMQFo"
      },
      "execution_count": null,
      "outputs": []
    },
    {
      "cell_type": "code",
      "source": [
        "data_df.isnull().sum()"
      ],
      "metadata": {
        "id": "ytyfmxwGMrtw"
      },
      "execution_count": null,
      "outputs": []
    },
    {
      "cell_type": "code",
      "source": [
        "data_df.shape"
      ],
      "metadata": {
        "id": "xZSBwSCkn2rY"
      },
      "execution_count": null,
      "outputs": []
    },
    {
      "cell_type": "code",
      "source": [
        "# 컬럼 이름 변경\n",
        "data_df = data_df.rename(columns={'TIPI1':'Extraverted-enthusiastic','TIPI2':'Critical-quarrelsome',\n",
        "                                  'TIPI3':'Dependable-self_disciplined','TIPI4':'Anxious-easily upset',\n",
        "                                  'TIPI5':'Open to new experiences-complex','TIPI6':'Reserved-quiet',\n",
        "                                  'TIPI7':'Sympathetic-warm','TIPI8':'Disorganized-careless',\n",
        "                                  'TIPI9':'Calm-emotionally_stable',\n",
        "                                  'TIPI10':'Conventional-uncreative'})"
      ],
      "metadata": {
        "id": "0_JZyP_MuH-y"
      },
      "execution_count": null,
      "outputs": []
    },
    {
      "cell_type": "code",
      "source": [
        "# Depression, Stress, Anxiety 문항 별 점수 합계 컬럼 생성\n",
        "DASS_keys = {'Depression': [3, 5, 10, 13, 16, 17, 21, 24, 26, 31, 34, 37, 38, 42],\n",
        "             'Anxiety': [2, 4, 7, 9, 15, 19, 20, 23, 25, 28, 30, 36, 40, 41],\n",
        "             'Stress': [1, 6, 8, 11, 12, 14, 18, 22, 27, 29, 32, 33, 35, 39]}\n",
        "\n",
        "depression_Q = [f'Q{i}A' for i in DASS_keys['Depression']]\n",
        "anxiety_Q = [f'Q{i}A' for i in DASS_keys['Anxiety']]\n",
        "stress_Q = [f'Q{i}A' for i in DASS_keys['Stress']]"
      ],
      "metadata": {
        "id": "LWVTqUrEvCL8"
      },
      "execution_count": null,
      "outputs": []
    },
    {
      "cell_type": "code",
      "source": [
        "data_df['depression_sum'] = data_df[depression_Q].sum(axis=1)\n",
        "data_df['anxiety_sum'] = data_df[anxiety_Q].sum(axis=1)\n",
        "data_df['stress_sum'] = data_df[stress_Q].sum(axis=1)"
      ],
      "metadata": {
        "id": "SS5aox6pxRev"
      },
      "execution_count": null,
      "outputs": []
    },
    {
      "cell_type": "code",
      "source": [
        "# DASS Scoring 지표에 따른 변환 함수\n",
        "def depression_scoring(x):\n",
        "    if x <= 9:\n",
        "        return 'Normal'\n",
        "    elif x <= 13:\n",
        "        return 'Mild'\n",
        "    elif x <= 20:\n",
        "        return 'Moderate'\n",
        "    elif x <= 27:\n",
        "        return 'Severe'\n",
        "    else:\n",
        "        return 'Extremely Severe'\n",
        "\n",
        "def anxiety_scoring(x):\n",
        "    if x <= 7:\n",
        "        return 'Normal'\n",
        "    elif x <= 9:\n",
        "        return 'Mild'\n",
        "    elif x <= 14:\n",
        "        return 'Moderate'\n",
        "    elif x <= 19:\n",
        "        return 'Severe'\n",
        "    else:\n",
        "        return 'Extremely Severe'\n",
        "\n",
        "def stress_scoring(x):\n",
        "    if x <= 14:\n",
        "        return 'Normal'\n",
        "    elif x <= 18:\n",
        "        return 'Mild'\n",
        "    elif x <= 25:\n",
        "        return 'Moderate'\n",
        "    elif x <= 33:\n",
        "        return 'Severe'\n",
        "    else:\n",
        "        return 'Extremely Severe'\n",
        "\n",
        "data_df['depression_scoring'] = data_df['depression_sum'].apply(depression_scoring)\n",
        "data_df['anxiety_scoring'] = data_df['anxiety_sum'].apply(anxiety_scoring)\n",
        "data_df['stress_scoring'] = data_df['stress_sum'].apply(stress_scoring)"
      ],
      "metadata": {
        "id": "r6BxetrTyLer"
      },
      "execution_count": null,
      "outputs": []
    },
    {
      "cell_type": "code",
      "source": [
        "data_df.head()"
      ],
      "metadata": {
        "id": "JcuoJpmAufgV"
      },
      "execution_count": null,
      "outputs": []
    },
    {
      "cell_type": "markdown",
      "source": [
        "### 1. education feature"
      ],
      "metadata": {
        "id": "nCSW8L0CASSv"
      }
    },
    {
      "cell_type": "code",
      "source": [
        "data_df.education.value_counts()"
      ],
      "metadata": {
        "id": "HOQMpfJg21zc"
      },
      "execution_count": null,
      "outputs": []
    },
    {
      "cell_type": "code",
      "source": [
        "# 0값을 1값으로 변경\n",
        "data_df['education'] = data_df['education'].map({ 0:1, 1:1, 2:2, 3:3, 4:4 })"
      ],
      "metadata": {
        "id": "wNtAoChn5KMr"
      },
      "execution_count": null,
      "outputs": []
    },
    {
      "cell_type": "code",
      "source": [
        "import matplotlib.pyplot as plt\n",
        "import seaborn as sns"
      ],
      "metadata": {
        "id": "NUWWtaex-Klu"
      },
      "execution_count": null,
      "outputs": []
    },
    {
      "cell_type": "code",
      "source": [
        "def changeEducationTitle(title):\n",
        "    if title == 1:\n",
        "        return 'Less than high school'\n",
        "    elif title == 2:\n",
        "        return 'High school'\n",
        "    elif title == 3: \n",
        "        return 'University degree'\n",
        "    else: \n",
        "        return 'Graduate degree'\n",
        "\n",
        "education_string = data_df['education'].apply(changeEducationTitle)\n",
        "\n",
        "plt.figure(figsize=(10, 8))\n",
        "\n",
        "plt.subplot(2,1,1)\n",
        "sns.countplot(x=data_df['education'], hue=education_string)\n",
        "plt.axhline(y=data_df.education.value_counts()[3], color='r', linestyle='--')\n",
        "\n",
        "plt.subplot(2,1,2)\n",
        "sns.countplot(x=data_df['education'], hue=education_string)\n",
        "plt.axhline(y=data_df.education.value_counts()[3], color='r', linestyle='--')\n",
        "plt.ylim(15000, 15200)"
      ],
      "metadata": {
        "id": "BHeA5hiy93tN"
      },
      "execution_count": null,
      "outputs": []
    },
    {
      "cell_type": "markdown",
      "source": [
        "### 2. urban feature"
      ],
      "metadata": {
        "id": "LsxbldaNAh_R"
      }
    },
    {
      "cell_type": "code",
      "source": [
        "data_df['urban'].value_counts()"
      ],
      "metadata": {
        "id": "k92ODLI36CzN"
      },
      "execution_count": null,
      "outputs": []
    },
    {
      "cell_type": "code",
      "source": [
        "# 0값을 가장 많이 선택된 3값으로 변경 \n",
        "# ->값이 0이면 사용자가 이 값을 입력하지 않았음을 의미하고 대부분의 레코드인 도시로 가정.\n",
        "data_df['urban'] = data_df['urban'].map({0: 3, 1: 1, 2: 2, 3: 3})"
      ],
      "metadata": {
        "id": "8hZ_vaJEAqxJ"
      },
      "execution_count": null,
      "outputs": []
    },
    {
      "cell_type": "code",
      "source": [
        "def changeUrbanValues(value):\n",
        "    if value == 1:\n",
        "        return 'Rural (country side)'\n",
        "    elif value == 2:\n",
        "        return 'Suburban'\n",
        "    else:\n",
        "        return 'Urban (town, city)'\n",
        "\n",
        "urban = data_df['urban'].apply(changeUrbanValues)\n",
        "\n",
        "plt.figure(figsize=(16, 8))\n",
        "sns.countplot(x=data_df['urban'], hue= urban)"
      ],
      "metadata": {
        "id": "rXV16ciYA2NU"
      },
      "execution_count": null,
      "outputs": []
    },
    {
      "cell_type": "markdown",
      "source": [
        "### 3. gender feature"
      ],
      "metadata": {
        "id": "gbLQuyhpAoqS"
      }
    },
    {
      "cell_type": "code",
      "source": [
        "data_df['gender'].value_counts()"
      ],
      "metadata": {
        "id": "thwug0oM63Ri"
      },
      "execution_count": null,
      "outputs": []
    },
    {
      "cell_type": "code",
      "source": [
        "# 0값을 Other인 3으로 변경\n",
        "data_df['gender'] = data_df['gender'].map({0: 3, 1: 1, 2: 2, 3: 3})"
      ],
      "metadata": {
        "id": "2kKdGSkU7h5w"
      },
      "execution_count": null,
      "outputs": []
    },
    {
      "cell_type": "code",
      "source": [
        "def changeGenderValue(value):\n",
        "    if value == 1:\n",
        "        return 'Male'\n",
        "    elif value == 2:\n",
        "        return 'Female'\n",
        "    else :\n",
        "        return 'Other'\n",
        "\n",
        "gender = data_df['gender'].apply(changeGenderValue)\n",
        "\n",
        "plt.figure(figsize=(18, 7))\n",
        "sns.countplot(x ='gender', data=data_df, hue=gender)"
      ],
      "metadata": {
        "id": "zNrs_CUUBnBa"
      },
      "execution_count": null,
      "outputs": []
    },
    {
      "cell_type": "markdown",
      "source": [
        "### 4. religion feature"
      ],
      "metadata": {
        "id": "38Q4V2tjCCB-"
      }
    },
    {
      "cell_type": "code",
      "source": [
        "data_df['religion'].value_counts()"
      ],
      "metadata": {
        "id": "5mhIMxKSCBIH"
      },
      "execution_count": null,
      "outputs": []
    },
    {
      "cell_type": "code",
      "source": [
        "# 0값을 Other인 12로 변경\n",
        "data_df['religion'] = data_df['religion'].replace(0, 12)"
      ],
      "metadata": {
        "id": "kGhIouSNCeMQ"
      },
      "execution_count": null,
      "outputs": []
    },
    {
      "cell_type": "code",
      "source": [
        "def changeReliginValues(value):\n",
        "    if value == 1:\n",
        "        return 'Agnostic'\n",
        "    elif value == 2:\n",
        "        return 'Atheist'\n",
        "    elif value == 3:\n",
        "        return 'Buddhist'\n",
        "    elif value == 4:\n",
        "        return 'Christian (Catholic)'\n",
        "    elif value == 5:\n",
        "        return 'Christian (Mormon)'\n",
        "    elif value == 6:\n",
        "        return '=Christian (Protestant)'\n",
        "    elif value == 7:\n",
        "        return 'Christian (Other)'\n",
        "    elif value == 8:\n",
        "        return 'Hindu'\n",
        "    elif value == 9:\n",
        "        return 'Jewish'\n",
        "    elif value == 10:\n",
        "        return 'Muslim'\n",
        "    elif value == 11:\n",
        "        return 'Sikh'\n",
        "    else:\n",
        "        return 'Other'\n",
        "\n",
        "religin = data_df['religion'].apply(changeReliginValues)\n",
        "\n",
        "# show value counts of religin depression\n",
        "display(data_df['religion'].value_counts())\n",
        "\n",
        "plt.figure(figsize=(18, 7))\n",
        "sns.countplot(x=data_df['religion'], hue= religin)"
      ],
      "metadata": {
        "id": "ljpO0_iFDmX8"
      },
      "execution_count": null,
      "outputs": []
    },
    {
      "cell_type": "markdown",
      "source": [
        "### 5. race feature"
      ],
      "metadata": {
        "id": "2KRNcBm8EUZe"
      }
    },
    {
      "cell_type": "code",
      "source": [
        "data_df['race'].value_counts()"
      ],
      "metadata": {
        "id": "OKz5Z34oEZ1d"
      },
      "execution_count": null,
      "outputs": []
    },
    {
      "cell_type": "code",
      "source": [
        "data_df['race'] = data_df['race'].apply(lambda x: x/10)"
      ],
      "metadata": {
        "id": "C7a5m0xIEXvV"
      },
      "execution_count": null,
      "outputs": []
    },
    {
      "cell_type": "code",
      "source": [
        "def changeRaceValues(value): \n",
        "    if value == 1:\n",
        "        return 'Asian'\n",
        "    elif value == 2:\n",
        "        return 'Arab'\n",
        "    elif value == 3:\n",
        "        return 'Black'\n",
        "    elif value == 4:\n",
        "        return 'Indigenous Australian'\n",
        "    elif value == 5:\n",
        "        return 'Native American'\n",
        "    elif value == 6:\n",
        "        return 'White'\n",
        "    else:\n",
        "        return 'Other'\n",
        "\n",
        "race = data_df['race'].apply(changeRaceValues)\n",
        "\n",
        "# show value counts of race\n",
        "display(data_df['race'].value_counts())\n",
        "\n",
        "# show some Viz\n",
        "plt.figure(figsize=(18, 7))\n",
        "sns.countplot(x=data_df['race'], hue=race)"
      ],
      "metadata": {
        "id": "US7b97-WEp-e"
      },
      "execution_count": null,
      "outputs": []
    },
    {
      "cell_type": "markdown",
      "source": [
        "### 6. familysize feature"
      ],
      "metadata": {
        "id": "zEq74NeXFUoI"
      }
    },
    {
      "cell_type": "code",
      "source": [
        "data_df['familysize'].value_counts()\n",
        "# 보편적으로 봤을 때 가족 구성원의 수라고 보기에는 굉장히 큰 값이 들어있음."
      ],
      "metadata": {
        "id": "1TJeZok-FYqp"
      },
      "execution_count": null,
      "outputs": []
    },
    {
      "cell_type": "code",
      "source": [
        "plt.figure(figsize=(18, 5))\n",
        "sns.distplot(x=data_df['familysize'])"
      ],
      "metadata": {
        "id": "Ea9ddpgAFeBS"
      },
      "execution_count": null,
      "outputs": []
    },
    {
      "cell_type": "code",
      "source": [
        "plt.figure(figsize=(18, 5))\n",
        "sns.distplot(x=data_df[data_df['familysize']<20]['familysize'])"
      ],
      "metadata": {
        "id": "DwiAjly7FvKA"
      },
      "execution_count": null,
      "outputs": []
    },
    {
      "cell_type": "code",
      "source": [
        "plt.figure(figsize=(18, 5))\n",
        "sns.distplot(x=data_df[data_df['familysize']<15]['familysize'])"
      ],
      "metadata": {
        "id": "MT52X3HTF84y"
      },
      "execution_count": null,
      "outputs": []
    },
    {
      "cell_type": "code",
      "source": [
        "# familysize 이상치 제거\n",
        "print('familysize before: ', data_df['familysize'].shape[0])\n",
        "print('familysize after: ', data_df[data_df['familysize']<15]['familysize'].shape[0])\n",
        "\n",
        "indexes = data_df[data_df['familysize'] > 13].index\n",
        "\n",
        "data_df = data_df.drop(indexes, axis=0)"
      ],
      "metadata": {
        "id": "2S5hGaIWFj9I"
      },
      "execution_count": null,
      "outputs": []
    },
    {
      "cell_type": "code",
      "source": [
        "plt.figure(figsize=(18, 5))\n",
        "sns.distplot(x=data_df['familysize'])"
      ],
      "metadata": {
        "id": "pVgvey11Gcbs"
      },
      "execution_count": null,
      "outputs": []
    },
    {
      "cell_type": "markdown",
      "source": [
        "### 7. married feature"
      ],
      "metadata": {
        "id": "PQszmkahHXTn"
      }
    },
    {
      "cell_type": "code",
      "source": [
        "data_df['married'].value_counts()"
      ],
      "metadata": {
        "id": "xfiaudxSHWs3"
      },
      "execution_count": null,
      "outputs": []
    },
    {
      "cell_type": "code",
      "source": [
        "# 0 값을 1값으로 변경\n",
        "data_df['married'] = data_df['married'].replace(0,1)"
      ],
      "metadata": {
        "id": "y0pTcdZeHinf"
      },
      "execution_count": null,
      "outputs": []
    },
    {
      "cell_type": "code",
      "source": [
        "def changeMarriedValueToString(value):\n",
        "    if value == 1:\n",
        "        return 'Never married'\n",
        "    elif value == 2:\n",
        "        return 'Currently married'\n",
        "    else:\n",
        "        return 'Previously married'\n",
        "\n",
        "# change numbers to strings for better viz\n",
        "married = data_df['married'].apply(changeMarriedValueToString)\n",
        "\n",
        "\n",
        "plt.figure(figsize=(18, 7))\n",
        "sns.countplot(x=data_df['married'], hue=married)"
      ],
      "metadata": {
        "id": "kB0FW4U_H0iY"
      },
      "execution_count": null,
      "outputs": []
    },
    {
      "cell_type": "markdown",
      "source": [
        "### 8. age feature"
      ],
      "metadata": {
        "id": "uDl7q8F9H-pJ"
      }
    },
    {
      "cell_type": "code",
      "source": [
        "data_df['age'].value_counts()"
      ],
      "metadata": {
        "id": "aW77aUerH-TI"
      },
      "execution_count": null,
      "outputs": []
    },
    {
      "cell_type": "code",
      "source": [
        "plt.figure(figsize=(18, 7))\n",
        "sns.boxplot(x=data_df['age'])"
      ],
      "metadata": {
        "id": "Ql5eyJnHIKih"
      },
      "execution_count": null,
      "outputs": []
    },
    {
      "cell_type": "markdown",
      "source": [
        "몇몇 데이터는 태어난 연도를 작성한 것처럼 보이나 해당 \n",
        "데이터가 몇 년도에 작성되었는지 알 수 없어 제거하기로 한다."
      ],
      "metadata": {
        "id": "uYbER9J4IYC6"
      }
    },
    {
      "cell_type": "code",
      "source": [
        "plt.figure(figsize=(18, 7))\n",
        "sns.boxplot(x=data_df[data_df['age']<100]['age'])"
      ],
      "metadata": {
        "id": "cbFJYXBgIfOi"
      },
      "execution_count": null,
      "outputs": []
    },
    {
      "cell_type": "code",
      "source": [
        "data_df[data_df['age']<100]['age'].max()"
      ],
      "metadata": {
        "id": "_sC_nmNkIwUj"
      },
      "execution_count": null,
      "outputs": []
    },
    {
      "cell_type": "code",
      "source": [
        "# age 이상치 제거\n",
        "print('age before: ', data_df['age'].shape[0])\n",
        "print('age after: ', data_df[data_df['age']<100]['age'].shape[0])\n",
        "\n",
        "indexes = data_df[data_df['age'] > 100].index\n",
        "\n",
        "data_df = data_df.drop(indexes, axis=0)"
      ],
      "metadata": {
        "id": "vjKaLjjeI_Hc"
      },
      "execution_count": null,
      "outputs": []
    },
    {
      "cell_type": "code",
      "source": [
        "plt.figure(figsize=(18, 7))\n",
        "sns.boxenplot(x=data_df['age']) "
      ],
      "metadata": {
        "id": "uDOpiZkpJQLM"
      },
      "execution_count": null,
      "outputs": []
    },
    {
      "cell_type": "code",
      "source": [
        "# 연령대별 카테고리화 하기\n",
        "def makeAgeGroup(x):\n",
        "    if x <= 10:\n",
        "        return 'Under 10'\n",
        "    elif x <= 16:\n",
        "        return 'Primary Children'\n",
        "    elif x <= 21:\n",
        "        return 'Secondary Children'\n",
        "    elif x <= 35:\n",
        "        return 'Adults' \n",
        "    elif x <= 48:\n",
        "        return 'Elder Adults'\n",
        "    else:\n",
        "        return 'Older People'\n",
        "\n",
        "age = data_df['age'].apply(makeAgeGroup)\n",
        "\n",
        "plt.figure(figsize=(18, 7))\n",
        "sns.countplot(x=data_df['age'], hue=age)"
      ],
      "metadata": {
        "id": "V49gPW_PKQSZ"
      },
      "execution_count": null,
      "outputs": []
    },
    {
      "cell_type": "code",
      "source": [
        "data_df['age_group'] = data_df['age'].apply(makeAgeGroup)\n",
        "# data_df.drop('age', axis=1, inplace=True)\n",
        "data_df.head(1)"
      ],
      "metadata": {
        "id": "76qzIvFqK42P"
      },
      "execution_count": null,
      "outputs": []
    },
    {
      "cell_type": "code",
      "source": [
        "# 가설검정 우울증 척도가 높은 사람의 나이와 낮은 사람의 나이 차이 확인\n",
        "# 우울증 척도가 'extreamly serve'인 사람들의 평균 나이가 'Moderate'인 사람들의 평균 나이보다 큰지를 판단하고자 함.\n",
        "\n",
        "# 귀무가설 : 우울증 척도가 'extreamly serve'인 사람들의 평균 나이는 'Moderate'인 사람들의 평균 나이보다 작거나 같다.\n",
        "# 대립가설 : 우울증 척도가 'extreamly serve'인 사람들의 평균 나이는 'Moderate'인 사람들의 평균 나이보다 크다."
      ],
      "metadata": {
        "id": "XTS7yIH-UPeb"
      },
      "execution_count": null,
      "outputs": []
    },
    {
      "cell_type": "code",
      "source": [
        "import numpy as np\n",
        "\n",
        "np.random.seed(10)\n",
        "\n",
        "extreamly_means, moderate_means, diff_means = [], [], []\n",
        "\n",
        "for _ in range(1000):\n",
        "  sample = data_df.sample(data_df.shape[0], replace=True)\n",
        "  \n",
        "  extreamly_mean = sample[sample['depression_scoring'] == 'Extremely Severe'].age.mean()\n",
        "  extreamly_means.append(extreamly_mean)\n",
        "\n",
        "  moderate_mean = sample[sample['depression_scoring'] == 'Moderate'].age.mean()\n",
        "  moderate_means.append(moderate_mean)\n",
        "\n",
        "  diff_means.append(extreamly_mean - moderate_mean)"
      ],
      "metadata": {
        "id": "Q0bIsobZUPgp"
      },
      "execution_count": null,
      "outputs": []
    },
    {
      "cell_type": "code",
      "source": [
        "plt.figure(figsize=(8,5))\n",
        "plt.hist(extreamly_means, alpha = 0.5, label='Extremely Severe')\n",
        "plt.hist(moderate_means, alpha = 0.5, label = 'Moderate')\n",
        "plt.legend(loc=9, fontsize=13)\n",
        "plt.show()"
      ],
      "metadata": {
        "id": "RQnyq_viUPi4"
      },
      "execution_count": null,
      "outputs": []
    },
    {
      "cell_type": "code",
      "source": [
        "plt.figure(figsize=(8,5))\n",
        "plt.hist(diff_means, alpha=0.5, label = 'Difference in Means')\n",
        "plt.axvline(0, c='r')\n",
        "plt.legend(loc=9, fontsize=13);"
      ],
      "metadata": {
        "id": "G8m5cmIPUPk0"
      },
      "execution_count": null,
      "outputs": []
    },
    {
      "cell_type": "code",
      "source": [
        "sample_diff_mean = data_df[data_df['depression_scoring'] == 'Extremely Severe'].age.mean() - data_df[data_df['depression_scoring'] == 'Moderate'].age.mean()\n",
        "sample_diff_mean"
      ],
      "metadata": {
        "id": "8c2c0QClWQPD"
      },
      "execution_count": null,
      "outputs": []
    },
    {
      "cell_type": "code",
      "source": [
        "sample_diff_std = np.std(diff_means)\n",
        "sample_diff_std"
      ],
      "metadata": {
        "id": "Z-SXWpSnWgap"
      },
      "execution_count": null,
      "outputs": []
    },
    {
      "cell_type": "code",
      "source": [
        "plt.figure(figsize=(8,5))\n",
        "null_vals = np.random.normal(0, sample_diff_std, 1000) # diff_means는 두 분포의 차이의 표본 분포입니다.\n",
        "plt.hist(null_vals, alpha=0.5, label='null hypothesis')\n",
        "plt.axvline(sample_diff_mean, color='r', label='statistics')\n",
        "plt.legend(loc=9, fontsize=13)\n",
        "plt.show()"
      ],
      "metadata": {
        "id": "rSJagPNJWijY"
      },
      "execution_count": null,
      "outputs": []
    },
    {
      "cell_type": "markdown",
      "source": [
        "귀무가설을 채택하도록 한다."
      ],
      "metadata": {
        "id": "wmP6NjDHd82h"
      }
    },
    {
      "cell_type": "code",
      "source": [
        "data_df.shape"
      ],
      "metadata": {
        "id": "TMjsITsdLamA"
      },
      "execution_count": null,
      "outputs": []
    },
    {
      "cell_type": "code",
      "source": [
        "data_df['depression_scoring'].unique()"
      ],
      "metadata": {
        "id": "zR44PYAu5tLN"
      },
      "execution_count": null,
      "outputs": []
    },
    {
      "cell_type": "code",
      "source": [
        "plt.figure(figsize=(10,8))\n",
        "sns.histplot(x='age', data = data_df[data_df['depression_scoring']=='Extremely Severe'], hue='age_group')\n",
        "plt.title(\"Depression - Extremely Severe\")"
      ],
      "metadata": {
        "id": "P0hfyQ-94SM-"
      },
      "execution_count": null,
      "outputs": []
    },
    {
      "cell_type": "code",
      "source": [
        "sns.histplot(x='age', data = data_df[data_df['depression_scoring']=='Severe'])\n",
        "plt.title(\"Depression - Severe\")"
      ],
      "metadata": {
        "id": "6R1O3TOT4qGt"
      },
      "execution_count": null,
      "outputs": []
    },
    {
      "cell_type": "code",
      "source": [
        "sns.histplot(x='age', data = data_df[data_df['depression_scoring']=='Moderate'])\n",
        "plt.title(\"Depression - Moderate\")"
      ],
      "metadata": {
        "id": "pciFH6754SPd"
      },
      "execution_count": null,
      "outputs": []
    },
    {
      "cell_type": "code",
      "source": [
        "data_df['anxiety_scoring'].unique()"
      ],
      "metadata": {
        "id": "s9jFJKXfQ99l"
      },
      "execution_count": null,
      "outputs": []
    },
    {
      "cell_type": "code",
      "source": [
        "sns.histplot(x='age', data = data_df[data_df['anxiety_scoring']=='Extremely Severe'])\n",
        "plt.title(\"Anxiety - Extremely Severe\")"
      ],
      "metadata": {
        "id": "L9j1qh3M4SVO"
      },
      "execution_count": null,
      "outputs": []
    },
    {
      "cell_type": "code",
      "source": [
        "sns.histplot(x='age', data = data_df[data_df['anxiety_scoring']=='Severe'])\n",
        "plt.title(\"Anxiety - Severe\")"
      ],
      "metadata": {
        "id": "UgpNi6p95c9-"
      },
      "execution_count": null,
      "outputs": []
    },
    {
      "cell_type": "code",
      "source": [
        "sns.histplot(x='age', data = data_df[data_df['anxiety_scoring']=='Moderate'])\n",
        "plt.title(\"Anxiety - Moderate\")"
      ],
      "metadata": {
        "id": "A3JRNAum5dAV"
      },
      "execution_count": null,
      "outputs": []
    },
    {
      "cell_type": "code",
      "source": [
        "data_df['stress_scoring'].unique()"
      ],
      "metadata": {
        "id": "KCfLR2ra5vin"
      },
      "execution_count": null,
      "outputs": []
    },
    {
      "cell_type": "code",
      "source": [
        "sns.histplot(x='age', data = data_df[data_df['stress_scoring']=='Extremely Severe'])\n",
        "plt.title(\"Stress - Extremely Severe\")"
      ],
      "metadata": {
        "id": "cfLH3MAK5xRl"
      },
      "execution_count": null,
      "outputs": []
    },
    {
      "cell_type": "code",
      "source": [
        "sns.histplot(x='age', data = data_df[data_df['stress_scoring']=='Severe'])\n",
        "plt.title(\"Stress - Severe\")"
      ],
      "metadata": {
        "id": "_Pg_-xcb5xln"
      },
      "execution_count": null,
      "outputs": []
    },
    {
      "cell_type": "code",
      "source": [
        "sns.histplot(x='age', data = data_df[data_df['stress_scoring']=='Moderate'])\n",
        "plt.title(\"Stress - Moderate\")"
      ],
      "metadata": {
        "id": "Fs1XYTSK5xoE"
      },
      "execution_count": null,
      "outputs": []
    },
    {
      "cell_type": "code",
      "source": [
        "sns.histplot(x='age', data = data_df[data_df['stress_scoring']=='Normal'])\n",
        "plt.title(\"Stress - Normal\")"
      ],
      "metadata": {
        "id": "jOI1Sl_Y5xu0"
      },
      "execution_count": null,
      "outputs": []
    },
    {
      "cell_type": "code",
      "source": [
        "sns.histplot(x='age', data = data_df[data_df['stress_scoring']=='Mild'])\n",
        "plt.title(\"Stress - Mild\")"
      ],
      "metadata": {
        "id": "Pg-o6E6D5x3t"
      },
      "execution_count": null,
      "outputs": []
    },
    {
      "cell_type": "code",
      "source": [
        "data_df['age_group'].unique()"
      ],
      "metadata": {
        "id": "zPlyXzvJ61Kc"
      },
      "execution_count": null,
      "outputs": []
    },
    {
      "cell_type": "code",
      "source": [
        "sns.histplot(x='age', data = data_df[(data_df['depression_scoring']=='Extremely Severe')&(data_df['age_group']=='Primary Children')])\n",
        "plt.title(\"Depression - Extremely Severe - Primary Children\")"
      ],
      "metadata": {
        "id": "viwEukpL4SYF"
      },
      "execution_count": null,
      "outputs": []
    },
    {
      "cell_type": "code",
      "source": [
        "sns.histplot(x='age', data = data_df[(data_df['depression_scoring']=='Extremely Severe')&(data_df['age_group']=='Secondary Children')])\n",
        "plt.title(\"Depression - Extremely Severe - Secondary Children\")"
      ],
      "metadata": {
        "id": "DTU8GeqY7FVW"
      },
      "execution_count": null,
      "outputs": []
    },
    {
      "cell_type": "code",
      "source": [
        "sns.histplot(x='age', data = data_df[(data_df['depression_scoring']=='Extremely Severe')&(data_df['age_group']=='Adults')])\n",
        "plt.title(\"Depression - Extremely Severe - Adults\")"
      ],
      "metadata": {
        "id": "8yXJBSB-7Oc9"
      },
      "execution_count": null,
      "outputs": []
    },
    {
      "cell_type": "code",
      "source": [
        "sns.histplot(x='age', data = data_df[(data_df['depression_scoring']=='Extremely Severe')&(data_df['age_group']=='Elder Adults')])\n",
        "plt.title(\"Depression - Extremely Severe - Elder Adults\")"
      ],
      "metadata": {
        "id": "dRZy_UAR7VJF"
      },
      "execution_count": null,
      "outputs": []
    },
    {
      "cell_type": "code",
      "source": [
        "data_df.shape"
      ],
      "metadata": {
        "id": "dfAO6AOb8thD"
      },
      "execution_count": null,
      "outputs": []
    },
    {
      "cell_type": "code",
      "source": [
        "data_df[(data_df['depression_scoring']=='Extremely Severe')&(data_df['anxiety_scoring']=='Extremely Severe')&(data_df['stress_scoring']=='Extremely Severe')].shape"
      ],
      "metadata": {
        "id": "opsAPYln8tjw"
      },
      "execution_count": null,
      "outputs": []
    },
    {
      "cell_type": "code",
      "source": [
        "data_df[(data_df['depression_scoring']=='Extremely Severe')&(data_df['anxiety_scoring']=='Extremely Severe')].shape"
      ],
      "metadata": {
        "id": "CzmsC-np9Awc"
      },
      "execution_count": null,
      "outputs": []
    },
    {
      "cell_type": "code",
      "source": [
        "data_df[(data_df['stress_scoring']=='Extremely Severe')&(data_df['anxiety_scoring']=='Extremely Severe')].shape"
      ],
      "metadata": {
        "id": "y4V9Tzoo9D14"
      },
      "execution_count": null,
      "outputs": []
    },
    {
      "cell_type": "code",
      "source": [
        "data_df[(data_df['depression_scoring']=='Extremely Severe')&(data_df['stress_scoring']=='Extremely Severe')].shape"
      ],
      "metadata": {
        "id": "LlNwCYNA9HbX"
      },
      "execution_count": null,
      "outputs": []
    },
    {
      "cell_type": "code",
      "source": [
        "data_df[(data_df['depression_scoring']=='Extremely Severe')&(data_df['anxiety_scoring']=='Extremely Severe')].shape[0] / data_df.shape[0]"
      ],
      "metadata": {
        "id": "EiKwbYbWyRoC"
      },
      "execution_count": null,
      "outputs": []
    },
    {
      "cell_type": "code",
      "source": [
        "data_df[(data_df['stress_scoring']=='Extremely Severe')&(data_df['anxiety_scoring']=='Extremely Severe')].shape[0] / data_df.shape[0]"
      ],
      "metadata": {
        "id": "qf3qIzq0yoMI"
      },
      "execution_count": null,
      "outputs": []
    },
    {
      "cell_type": "code",
      "source": [
        "data_df[(data_df['depression_scoring']=='Extremely Severe')&(data_df['stress_scoring']=='Extremely Severe')].shape[0] / data_df.shape[0]"
      ],
      "metadata": {
        "id": "_MjGy26ny44P"
      },
      "execution_count": null,
      "outputs": []
    },
    {
      "cell_type": "code",
      "source": [
        "data_df[(data_df['depression_scoring']=='Extremely Severe')&(data_df['anxiety_scoring']=='Extremely Severe')&(data_df['stress_scoring']=='Extremely Severe')].shape[0] / data_df.shape[0]"
      ],
      "metadata": {
        "id": "XvUO84yhxqKI"
      },
      "execution_count": null,
      "outputs": []
    },
    {
      "cell_type": "code",
      "source": [
        "sns.countplot(data_df['depression_scoring'])\n",
        "plt.title(\"Depression_scoring\", fontsize=15)\n",
        "plt.xlabel(\"\")\n",
        "plt.xticks(fontsize=13)"
      ],
      "metadata": {
        "id": "8_vKBdYB8riO"
      },
      "execution_count": null,
      "outputs": []
    },
    {
      "cell_type": "code",
      "source": [
        "sns.countplot(data_df['anxiety_scoring'])\n",
        "plt.title(\"Anxiety_scoring\", fontsize=15)\n",
        "plt.xlabel(\"\")\n",
        "plt.xticks(fontsize=13)"
      ],
      "metadata": {
        "id": "L9NP9Sbu6sNm"
      },
      "execution_count": null,
      "outputs": []
    },
    {
      "cell_type": "code",
      "source": [
        "# plt.figure(figsize=(10,8))\n",
        "sns.countplot(data_df['stress_scoring'])\n",
        "plt.title(\"Stress_scoring\", fontsize=15)\n",
        "plt.xlabel(\"\")"
      ],
      "metadata": {
        "id": "mkgOC22T_boD"
      },
      "execution_count": null,
      "outputs": []
    },
    {
      "cell_type": "code",
      "source": [
        "emotion_df = data_df.copy()\n",
        "\n",
        "drop_list = [f'Q{i}A' for i in range(1,43)]\n",
        "drop_list.extend(['depression_sum','anxiety_sum','stress_sum'])\n",
        "emotion_df.drop(drop_list, axis=1)"
      ],
      "metadata": {
        "id": "eFwHJAaQLoLh"
      },
      "execution_count": null,
      "outputs": []
    },
    {
      "cell_type": "code",
      "source": [
        "data_df['age_group'].unique()"
      ],
      "metadata": {
        "id": "edntk3lVAEJN"
      },
      "execution_count": null,
      "outputs": []
    },
    {
      "cell_type": "code",
      "source": [
        "data_df['age_group_num'] = data_df['age_group'].map({'Primary Children':1, 'Secondary Children':2, 'Adults':3, \n",
        "                                                     'Elder Adults':4, 'Older People':5})\n",
        "data_df.head()"
      ],
      "metadata": {
        "id": "3b1UcMCHT2YT"
      },
      "execution_count": null,
      "outputs": []
    },
    {
      "cell_type": "code",
      "source": [
        "data_df.iloc[:,61:68].columns.to_list()"
      ],
      "metadata": {
        "id": "QrBPFUMeAmh7"
      },
      "execution_count": null,
      "outputs": []
    },
    {
      "cell_type": "code",
      "source": [
        "modeling_df = data_df.copy()\n",
        "\n",
        "drop_list = ['age']\n",
        "drop_list.extend(data_df.iloc[:,61:68].columns.to_list())\n",
        "\n",
        "modeling_df.drop(drop_list, axis=1, inplace=True)"
      ],
      "metadata": {
        "id": "4kiwfeFuAXyi"
      },
      "execution_count": null,
      "outputs": []
    },
    {
      "cell_type": "code",
      "source": [
        "modeling_df['total_count']  = modeling_df.sum(axis=1)\n",
        "modeling_df.head()"
      ],
      "metadata": {
        "id": "j_hCV36VB0sp"
      },
      "execution_count": null,
      "outputs": []
    },
    {
      "cell_type": "code",
      "source": [
        "modeling_df['total_count'].describe()"
      ],
      "metadata": {
        "id": "H0eyCTUcB6HT"
      },
      "execution_count": null,
      "outputs": []
    },
    {
      "cell_type": "code",
      "source": [
        "plt.figure(figsize=(18, 7))\n",
        "sns.distplot(x=modeling_df['total_count'])"
      ],
      "metadata": {
        "id": "BSkh2htHB_Kp"
      },
      "execution_count": null,
      "outputs": []
    },
    {
      "cell_type": "markdown",
      "source": [
        "### target coulmns 만들기"
      ],
      "metadata": {
        "id": "EQaN98WNCXVg"
      }
    },
    {
      "cell_type": "markdown",
      "source": [
        "total_count를 5개의 범주로 나누기\n",
        "1. Normal\n",
        "2. Mild\n",
        "3. Moderate\n",
        "4. Severe\n",
        "5. Extremely Severe"
      ],
      "metadata": {
        "id": "Lh9ibjGzCIgw"
      }
    },
    {
      "cell_type": "code",
      "source": [
        "modeling_df[modeling_df['total_count'] < 170]['total_count'].describe()"
      ],
      "metadata": {
        "id": "YgD3QuSHCDLK"
      },
      "execution_count": null,
      "outputs": []
    },
    {
      "cell_type": "code",
      "source": [
        "modeling_df[modeling_df['total_count'] < 147]['total_count'].describe()"
      ],
      "metadata": {
        "id": "xmL0Wi3SCnBI"
      },
      "execution_count": null,
      "outputs": []
    },
    {
      "cell_type": "code",
      "source": [
        "modeling_df[modeling_df['total_count'] > 170]['total_count'].describe()"
      ],
      "metadata": {
        "id": "luKIClt0C2nA"
      },
      "execution_count": null,
      "outputs": []
    },
    {
      "cell_type": "code",
      "source": [
        "def buildTarget(value):\n",
        "    if value <= 133:\n",
        "        return 'Normal'\n",
        "    elif value <= 147:\n",
        "        return 'Mild'\n",
        "    elif value <= 170:\n",
        "        return 'Moderate'\n",
        "    elif value <= 194:\n",
        "        return 'Severe'\n",
        "    else:\n",
        "        return 'Extremely Severe'\n",
        "\n",
        "\n",
        "modeling_df['target'] = modeling_df['total_count'].apply(buildTarget)\n",
        "\n",
        "modeling_df.head()"
      ],
      "metadata": {
        "id": "QAOPvjvJC5MG"
      },
      "execution_count": null,
      "outputs": []
    },
    {
      "cell_type": "code",
      "source": [
        "modeling_df['target'].value_counts()"
      ],
      "metadata": {
        "id": "PvswsaZQDPVA"
      },
      "execution_count": null,
      "outputs": []
    },
    {
      "cell_type": "code",
      "source": [
        "modeling_df.columns"
      ],
      "metadata": {
        "id": "LevVKfcOJsxg"
      },
      "execution_count": null,
      "outputs": []
    },
    {
      "cell_type": "markdown",
      "source": [
        "## 모델링"
      ],
      "metadata": {
        "id": "M-1E0iixDhvv"
      }
    },
    {
      "cell_type": "code",
      "source": [
        "from sklearn.model_selection import train_test_split\n",
        "\n",
        "target = modeling_df['target']\n",
        "data = modeling_df.drop(['total_count', 'target'], axis=1)\n",
        "\n",
        "X_train, X_test, y_train, y_test = train_test_split(data, target, test_size=0.2)\n",
        "X_train, X_val, y_train, y_val = train_test_split(X_train, y_train, test_size=0.2)\n",
        "\n",
        "print(f'X_train: {X_train.shape}, y_train: {y_train.shape}')\n",
        "print(f'X_val: {X_val.shape}, y_train: {y_val.shape}')\n",
        "print(f'X_test: {X_test.shape}, y_test: {y_test.shape}')"
      ],
      "metadata": {
        "id": "AGb0KJibDhUI"
      },
      "execution_count": null,
      "outputs": []
    },
    {
      "cell_type": "code",
      "source": [
        "train, test = train_test_split(modeling_df.drop(['total_count'],axis=1), test_size=0.2, stratify=modeling_df['target'])\n",
        "train, val = train_test_split(train, test_size=0.2, stratify=train['target'])\n",
        "\n",
        "train.shape, val.shape, test.shape"
      ],
      "metadata": {
        "id": "nE1G95XTFaJM"
      },
      "execution_count": null,
      "outputs": []
    },
    {
      "cell_type": "code",
      "source": [
        "# 기준모델\n",
        "train['target'].value_counts(normalize=True)"
      ],
      "metadata": {
        "id": "0DqUF34cDhW6"
      },
      "execution_count": null,
      "outputs": []
    },
    {
      "cell_type": "code",
      "source": [
        "target = \"target\"\n",
        "modeling_df[target].value_counts(normalize=True).plot.pie(autopct=\"%.3f%%\")\n",
        "print(\"Baseline Accuracy:\", modeling_df[target].value_counts(normalize=True).max())"
      ],
      "metadata": {
        "id": "cf1y3LlYo_O-"
      },
      "execution_count": null,
      "outputs": []
    },
    {
      "cell_type": "code",
      "source": [
        "target = 'target'\n",
        "features = train.drop([target], axis=1).columns\n",
        "\n",
        "X_train = train[features]\n",
        "y_train = train[target]\n",
        "\n",
        "X_val = val[features]\n",
        "y_val = val[target]\n",
        "\n",
        "X_test = test[features]\n",
        "y_test = test[target]"
      ],
      "metadata": {
        "id": "FoPMJOvuHCG2"
      },
      "execution_count": null,
      "outputs": []
    },
    {
      "cell_type": "markdown",
      "source": [
        "### 1. 랜덤포레스트"
      ],
      "metadata": {
        "id": "IposmxoikhNL"
      }
    },
    {
      "cell_type": "code",
      "source": [
        "from sklearn.ensemble import RandomForestClassifier\n",
        "\n",
        "rnd_clf = RandomForestClassifier(n_estimators=100, n_jobs=-1, max_depth=10)\n",
        "rnd_clf.fit(X_train, y_train)"
      ],
      "metadata": {
        "id": "fE3I--VqIk9p"
      },
      "execution_count": null,
      "outputs": []
    },
    {
      "cell_type": "code",
      "source": [
        "rnd_clf.score(X_val, y_val)"
      ],
      "metadata": {
        "id": "WeS3--YBJBLp"
      },
      "execution_count": null,
      "outputs": []
    },
    {
      "cell_type": "markdown",
      "source": [
        "### 2. xgboost"
      ],
      "metadata": {
        "id": "V97eGrtjkkHb"
      }
    },
    {
      "cell_type": "code",
      "source": [
        "from xgboost import XGBClassifier\n",
        "\n",
        "xgb = XGBClassifier(n_estimators=100, n_jobs=-1, max_depth=10)\n",
        "xgb.fit(X_train, y_train)\n",
        "y_pred = xgb.predict(X_val)"
      ],
      "metadata": {
        "id": "II9g2P2hJFS6"
      },
      "execution_count": null,
      "outputs": []
    },
    {
      "cell_type": "code",
      "source": [
        "from sklearn.metrics import accuracy_score\n",
        "\n",
        "print('검증 정확도: ', accuracy_score(y_val, y_pred))"
      ],
      "metadata": {
        "id": "mnmpx-aemyNR"
      },
      "execution_count": null,
      "outputs": []
    },
    {
      "cell_type": "code",
      "source": [
        "from sklearn.metrics import confusion_matrix\n",
        "\n",
        "cm = confusion_matrix(y_val, y_pred)\n",
        "sns.heatmap(cm, annot=True, fmt='g')\n",
        "plt.xlabel(\"Predicted label\", fontsize=13)\n",
        "plt.ylabel(\"True label\", fontsize=13)\n",
        "plt.title(\"Validation Data-Confusion Matrix\", fontsize=16)\n",
        "plt.show()"
      ],
      "metadata": {
        "id": "GnmsEhz7t_Bx"
      },
      "execution_count": null,
      "outputs": []
    },
    {
      "cell_type": "code",
      "source": [
        "from sklearn.metrics import classification_report\n",
        "\n",
        "print(classification_report(y_val, y_pred))"
      ],
      "metadata": {
        "id": "HH3KYy64t_EA"
      },
      "execution_count": null,
      "outputs": []
    },
    {
      "cell_type": "code",
      "source": [
        "y_test_pred = xgb.predict(X_test)\n",
        "print('테스트 정확도: ', accuracy_score(y_test, y_test_pred))"
      ],
      "metadata": {
        "id": "0KyJZrjXtbPm"
      },
      "execution_count": null,
      "outputs": []
    },
    {
      "cell_type": "code",
      "source": [
        "# 특성 중요도\n",
        "rf = xgb\n",
        "importances = pd.Series(rf.feature_importances_, X_train.columns)\n",
        "\n",
        "%matplotlib inline\n",
        "import matplotlib.pyplot as plt\n",
        "\n",
        "n = 20\n",
        "plt.figure(figsize=(10,n/2))\n",
        "plt.title(f'Top {n} features')\n",
        "importances.sort_values()[-n:].plot.barh();"
      ],
      "metadata": {
        "id": "M_BdZz7JvwAL"
      },
      "execution_count": null,
      "outputs": []
    },
    {
      "cell_type": "code",
      "source": [
        "!pip install eli5"
      ],
      "metadata": {
        "id": "txPbq0YVzF1s"
      },
      "execution_count": null,
      "outputs": []
    },
    {
      "cell_type": "code",
      "source": [
        "import warnings\n",
        "warnings.simplefilter(action='ignore', category=FutureWarning)\n",
        "\n",
        "import eli5\n",
        "from eli5.sklearn import PermutationImportance\n",
        "\n",
        "# permuter 정의\n",
        "permuter = PermutationImportance(\n",
        "    xgb, # model\n",
        "    scoring='accuracy', # metric\n",
        "    n_iter=5, # 다른 random seed를 사용하여 5번 반복\n",
        "    random_state=2\n",
        ")\n",
        "\n",
        "# permuter 계산은 preprocessing 된 X_val을 사용합니다.\n",
        "# X_val_transformed = pipe.named_steps['preprocessing'].transform(X_val)\n",
        "\n",
        "# 실제로 fit 의미보다는 스코어를 다시 계산하는 작업입니다\n",
        "permuter.fit(X_val, y_val);\n",
        "\n",
        "feature_names = X_val.columns.tolist()\n",
        "pd.Series(permuter.feature_importances_, feature_names).sort_values()"
      ],
      "metadata": {
        "id": "3luhd0pLyygN"
      },
      "execution_count": null,
      "outputs": []
    },
    {
      "cell_type": "code",
      "source": [
        "# 특성별 score 확인\n",
        "eli5.show_weights(\n",
        "    permuter, \n",
        "    top=None, # top n 지정 가능, None 일 경우 모든 특성 \n",
        "    feature_names=feature_names # list 형식으로 넣어야 합니다\n",
        ")"
      ],
      "metadata": {
        "id": "6GwMmxDvzIf_"
      },
      "execution_count": null,
      "outputs": []
    },
    {
      "cell_type": "code",
      "source": [
        "!pip install pdpbox"
      ],
      "metadata": {
        "id": "S2_6wlQ7KVel"
      },
      "execution_count": null,
      "outputs": []
    },
    {
      "cell_type": "code",
      "source": [
        "from pdpbox.pdp import pdp_isolate, pdp_plot\n",
        "\n",
        "feature_list = ['religion','Q36A','age_group_num']\n",
        "\n",
        "for i in range(len(feature_list)):\n",
        "    isolated = pdp_isolate(\n",
        "        model=xgb, \n",
        "        dataset=X_train, \n",
        "        model_features=X_train.columns,\n",
        "        feature=feature_list[i]\n",
        "    )\n",
        "    pdp_plot(isolated, feature_name=feature_list[i]);"
      ],
      "metadata": {
        "id": "QKv336s0KamV"
      },
      "execution_count": null,
      "outputs": []
    },
    {
      "cell_type": "code",
      "source": [
        "!pip install shap"
      ],
      "metadata": {
        "id": "I_5x40j1P43T"
      },
      "execution_count": null,
      "outputs": []
    },
    {
      "cell_type": "code",
      "source": [
        "import shap\n",
        "\n",
        "explainer = shap.TreeExplainer(xgb)\n",
        "\n",
        "### Draw SHAP plots ###\n",
        "row = X_test.iloc[[1]]\n",
        "\n",
        "shap_values = explainer.shap_values(row)\n",
        "\n",
        "shap.initjs()\n",
        "shap.force_plot(\n",
        "    base_value=explainer.expected_value[0], \n",
        "    shap_values=shap_values[0],\n",
        "    features=row\n",
        ")"
      ],
      "metadata": {
        "id": "JRqMmVwUP1-5"
      },
      "execution_count": null,
      "outputs": []
    }
  ]
}